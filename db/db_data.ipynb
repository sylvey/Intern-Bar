{
 "cells": [
  {
   "cell_type": "code",
   "execution_count": 1,
   "metadata": {},
   "outputs": [],
   "source": [
    "import requests\n",
    "from sqlalchemy import create_engine\n",
    "import pandas as pd"
   ]
  },
  {
   "cell_type": "code",
   "execution_count": 9,
   "metadata": {},
   "outputs": [],
   "source": [
    "# table 的資料匯入(由 csv )\n",
    "city = pd.read_csv('ExpApp_city.csv', encoding=\"utf-8\")\n",
    "district = pd.read_csv('ExpApp_district.csv', encoding=\"utf-8\")\n",
    "experience = pd.read_csv('ExpApp_experience.csv', encoding=\"utf-8\")\n",
    "userINFO = pd.read_csv('UserApp_user.csv', encoding=\"utf-8\")\n",
    "organiztion = pd.read_csv('ExpApp_organization.csv', encoding=\"utf-8\")\n",
    "position = pd.read_csv('ExpApp_position.csv', encoding=\"utf-8\")\n",
    "post = pd.read_csv('PostApp_post.csv', encoding=\"utf-8\")\n",
    "comment = pd.read_csv('PostApp_comment.csv', encoding=\"utf-8\")\n",
    "\n",
    "# fill in your db account info\n",
    "username = \"postgres\"\n",
    "password = \"123456\" # 我的 DB 密碼\n",
    "\n",
    "\n",
    "# let's insert data\n",
    "engine = create_engine(\"postgresql://\" + username + \":\" + password + \"@localhost:5432/project\")\n",
    "\n",
    "######################################################################################\n",
    "##### to_sql 的部分，每一行都只能執行一次!!!!手動把註解符號弄掉，手動把註解符號加回來 #####\n",
    "######################################################################################\n",
    "\n",
    "### 可以直接匯入的第一批 csv\n",
    "## 這裡可以三行全開，因為沒有 FK 影響參照完整性\n",
    "\n",
    "# userINFO.to_sql('UserApp_user', engine, if_exists=\"append\", index = False)\n",
    "# city.to_sql('ExpApp_city', con=engine, if_exists=\"append\", index = False)\n",
    "# organiztion.to_sql('ExpApp_organization', engine, if_exists=\"append\", index = False)\n",
    "\n",
    "### 有 FK 需要參照的 csv，匯入 TABLE 有先後順序\n",
    "## 請幫我按照順序一行一行打開並執行\n",
    "\n",
    "# district.to_sql('ExpApp_district', engine, if_exists=\"append\", index = False)\n",
    "# position.to_sql('ExpApp_position', engine, if_exists=\"append\", index = False)\n",
    "# experience.to_sql('ExpApp_experience', engine, if_exists=\"append\", index = False)\n",
    "# post.to_sql('PostApp_post', engine, if_exists=\"append\", index = False)\n",
    "# comment.to_sql('PostApp_comment', engine, if_exists=\"append\", index = False)"
   ]
  },
  {
   "cell_type": "markdown",
   "metadata": {},
   "source": [
    "下面這第三區塊的程式碼「不須執行」，\n",
    "是想先留著等寫 SQL 語法用的"
   ]
  },
  {
   "cell_type": "code",
   "execution_count": 9,
   "metadata": {},
   "outputs": [],
   "source": [
    "import psycopg2\n",
    "host = 'localhost'\n",
    "dbname = 'project'\n",
    "user = 'postgres'\n",
    "password = '123456'\n",
    "sslmode = 'require'\n",
    "\n",
    "### Construct connention\n",
    "# conn = psycopg2.connect(host=host, port='5432', user=user, password=password)\n",
    "conn = psycopg2.connect(database=dbname, host=host, port='5432', user=user, password=password)\n",
    "cursor = conn.cursor()\n",
    "\n",
    "# cursor.execute('CREATE TABLE project;')\n",
    "\n",
    "### Clean up\n",
    "conn.commit()\n",
    "cursor.close()"
   ]
  }
 ],
 "metadata": {
  "interpreter": {
   "hash": "6ebe50fb387380856c120ac0d7277345b5071e133bc41ec3abddab6ff3aea5c8"
  },
  "kernelspec": {
   "display_name": "Python 3.10.0 64-bit",
   "language": "python",
   "name": "python3"
  },
  "language_info": {
   "codemirror_mode": {
    "name": "ipython",
    "version": 3
   },
   "file_extension": ".py",
   "mimetype": "text/x-python",
   "name": "python",
   "nbconvert_exporter": "python",
   "pygments_lexer": "ipython3",
   "version": "3.10.0"
  },
  "orig_nbformat": 4
 },
 "nbformat": 4,
 "nbformat_minor": 2
}
