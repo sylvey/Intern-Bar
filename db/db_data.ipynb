{
 "cells": [
  {
   "cell_type": "markdown",
   "metadata": {},
   "source": [
    "匯入套件"
   ]
  },
  {
   "cell_type": "code",
   "execution_count": 1,
   "metadata": {},
   "outputs": [],
   "source": [
    "import requests\n",
    "from sqlalchemy import create_engine\n",
    "import pandas as pd"
   ]
  },
  {
   "cell_type": "markdown",
   "metadata": {},
   "source": [
    "讀取已經蒐集且整理好的 csv 檔案，成為變數，<br>\n",
    "準備直接匯入 DB。"
   ]
  },
  {
   "cell_type": "code",
   "execution_count": 2,
   "metadata": {},
   "outputs": [],
   "source": [
    "# TABLE 的資料匯入( 由 csv )\n",
    "userINFO = pd.read_csv('UserApp_user.csv', encoding=\"utf-8\")\n",
    "city = pd.read_csv('ExpApp_city.csv', encoding=\"utf-8\")\n",
    "organiztion = pd.read_csv('ExpApp_organization.csv', encoding=\"utf-8\")\n",
    "district = pd.read_csv('ExpApp_district.csv', encoding=\"utf-8\")\n",
    "position = pd.read_csv('ExpApp_position.csv', encoding=\"utf-8\")\n",
    "experience = pd.read_csv('ExpApp_experience.csv', encoding=\"utf-8\")\n",
    "post = pd.read_csv('PostApp_post.csv', encoding=\"utf-8\")\n",
    "comment = pd.read_csv('PostApp_comment.csv', encoding=\"utf-8\")"
   ]
  },
  {
   "cell_type": "markdown",
   "metadata": {},
   "source": [
    "如果您是使用本機端的 pgAdmin 4 作為資料庫系統的話，<br>\n",
    "那需要填寫您 DB 當初設定的基本資料、參數，<br>\n",
    "並且開啟 engine 控制。"
   ]
  },
  {
   "cell_type": "code",
   "execution_count": 3,
   "metadata": {},
   "outputs": [],
   "source": [
    "### 填寫你的 DB 基本資料(USERNAME 和 PASSWORD)\n",
    "username = \"postgres\"\n",
    "password = \"123456\"\n",
    "engine = create_engine(\"postgresql://\" + username + \":\" + password + \"@localhost:5432/project\")"
   ]
  },
  {
   "cell_type": "markdown",
   "metadata": {},
   "source": [
    "## **【重要!!!!極重要!!!!】**<br>\n",
    "接下來進入匯 csv 入 DATABASE 的重點部分，<br>\n",
    "由於我們所有 TABLE 的架構已經透過在終端機執行 `python manage.py migrate` 時建立好，<br>\n",
    "所以我們已經有 TABLE 之間相互依存的關係也已經成立（參照完整性），<br>\n",
    "因此匯入上也需要非常小心謹慎，需思考好匯入的先後順序（不能先匯入有 FK 的資料表），<br>\n",
    "也不能隨意移除資料列或刪除資料表（FK 會斷）。"
   ]
  },
  {
   "cell_type": "markdown",
   "metadata": {},
   "source": [
    "###################################################################################### <br>\n",
    "## **下方每一區塊的程式碼都只能執行一次!!!!!**<br>\n",
    "## **且要按照順序按!!!!!**<br>\n",
    "（因為執行第二次的話，`to_sql( )`會被第一次執行的資料結果給擋住，不能刪除不能覆寫（參照完整性））\n",
    "###################################################################################### <br>"
   ]
  },
  {
   "cell_type": "markdown",
   "metadata": {},
   "source": [
    "* 匯入順序一（UserApp_user、ExpApp_city、ExpApp_organization）"
   ]
  },
  {
   "cell_type": "code",
   "execution_count": 9,
   "metadata": {},
   "outputs": [],
   "source": [
    "### 可以直接匯入的第一批 csv\n",
    "## 這裡可以三行全開，因為沒有 FK 影響參照完整性\n",
    "\n",
    "# userINFO.to_sql('UserApp_user', engine, if_exists=\"append\", index = False)\n",
    "# city.to_sql('ExpApp_city', con=engine, if_exists=\"append\", index = False)\n",
    "# organiztion.to_sql('ExpApp_organization', engine, if_exists=\"append\", index = False)"
   ]
  },
  {
   "cell_type": "markdown",
   "metadata": {},
   "source": [
    "* 匯入順序二（ExpApp_district）"
   ]
  },
  {
   "cell_type": "code",
   "execution_count": 5,
   "metadata": {},
   "outputs": [],
   "source": [
    "### 有 FK 需要參照的 csv，匯入 TABLE 有先後順序\n",
    "## 請幫我按照順序一行一行打開並執行\n",
    "\n",
    "district.to_sql('ExpApp_district', engine, if_exists=\"append\", index = False)"
   ]
  },
  {
   "cell_type": "markdown",
   "metadata": {},
   "source": [
    "* 匯入順序三（ExpApp_position）"
   ]
  },
  {
   "cell_type": "code",
   "execution_count": null,
   "metadata": {},
   "outputs": [],
   "source": [
    "position.to_sql('ExpApp_position', engine, if_exists=\"append\", index = False)"
   ]
  },
  {
   "cell_type": "markdown",
   "metadata": {},
   "source": [
    "* 匯入順序四（ExpApp_experience）"
   ]
  },
  {
   "cell_type": "code",
   "execution_count": null,
   "metadata": {},
   "outputs": [],
   "source": [
    "experience.to_sql('ExpApp_experience', engine, if_exists=\"append\", index = False)"
   ]
  },
  {
   "cell_type": "markdown",
   "metadata": {},
   "source": [
    "* 匯入順序五（PostApp_post）"
   ]
  },
  {
   "cell_type": "code",
   "execution_count": null,
   "metadata": {},
   "outputs": [],
   "source": [
    "post.to_sql('PostApp_post', engine, if_exists=\"append\", index = False)"
   ]
  },
  {
   "cell_type": "markdown",
   "metadata": {},
   "source": [
    "* 匯入順序六（PostApp_comment）"
   ]
  },
  {
   "cell_type": "code",
   "execution_count": null,
   "metadata": {},
   "outputs": [],
   "source": [
    "comment.to_sql('PostApp_comment', engine, if_exists=\"append\", index = False)"
   ]
  },
  {
   "cell_type": "markdown",
   "metadata": {},
   "source": [
    "### 下面這第三區塊的程式碼「不須執行」，是想先留著等寫 SQL 語法用的"
   ]
  },
  {
   "cell_type": "code",
   "execution_count": 9,
   "metadata": {},
   "outputs": [],
   "source": [
    "import psycopg2\n",
    "host = 'localhost'\n",
    "dbname = 'project'\n",
    "user = 'postgres'\n",
    "password = '123456'\n",
    "sslmode = 'require'\n",
    "\n",
    "### Construct connention\n",
    "# conn = psycopg2.connect(host=host, port='5432', user=user, password=password)\n",
    "conn = psycopg2.connect(database=dbname, host=host, port='5432', user=user, password=password)\n",
    "cursor = conn.cursor()\n",
    "\n",
    "# cursor.execute('CREATE TABLE project;')\n",
    "\n",
    "### Clean up\n",
    "conn.commit()\n",
    "cursor.close()"
   ]
  }
 ],
 "metadata": {
  "interpreter": {
   "hash": "6ebe50fb387380856c120ac0d7277345b5071e133bc41ec3abddab6ff3aea5c8"
  },
  "kernelspec": {
   "display_name": "Python 3.10.0 64-bit",
   "language": "python",
   "name": "python3"
  },
  "language_info": {
   "codemirror_mode": {
    "name": "ipython",
    "version": 3
   },
   "file_extension": ".py",
   "mimetype": "text/x-python",
   "name": "python",
   "nbconvert_exporter": "python",
   "pygments_lexer": "ipython3",
   "version": "3.10.0"
  },
  "orig_nbformat": 4
 },
 "nbformat": 4,
 "nbformat_minor": 2
}
